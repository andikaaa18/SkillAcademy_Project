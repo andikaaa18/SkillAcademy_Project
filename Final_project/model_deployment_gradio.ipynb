{
 "cells": [
  {
   "cell_type": "markdown",
   "metadata": {},
   "source": [
    "<div class=\"container\" style=\"display:flex; width:100%;height:150px;background-color:None;\">\n",
    "    <div class=\"subcontainer-1\" style=\"flex:0.11;height:100%;width:20%;\">\n",
    "        <div class=\"logo-frame\" style=\"height:100%;background-color:None;\">\n",
    "            <img src=\"https://github.com/andikaaa18/SkillAcademy_Project/blob/main/skill_academy_logo.jpg?raw=true\" style=\"height:100%;float:left; filter:invert(0%);\">\n",
    "        </div>\n",
    "    </div>\n",
    "    <div class=\"subcontainer-2\" style=\"flex:0.89;height:60%;margin-top:2.5%\">\n",
    "        <div class=\"upper-sidebar\" style=\"height:50%;width:100%;background-color:None;align-items:center;display:inline-flex;\">\n",
    "            <div style=\"font-size:50px; font-family:Trebuchet MS; font-weight:bold; text-align:left\">\n",
    "            Skill Academy Project\n",
    "            </div>\n",
    "        </div>\n",
    "        <div class=\"lower-sidebar\" style=\"height:50%;width:100%;background-color:None;align-items:center;display: inline-flex;\">\n",
    "            <div style=\"font-size:30px; font-family:Trebuchet MS;\">\n",
    "            &mdash; Final Project : Stock Price Forecasting\n",
    "            </div>\n",
    "        </div>\n",
    "    </div>\n",
    "</div>\n",
    "\n",
    "<hr style=\"width:95%;height:2px;background-color:black;\" align=\"left\">"
   ]
  },
  {
   "cell_type": "markdown",
   "metadata": {},
   "source": [
    "<div style=\"font-family:Trebuchet MS; font-weight:bold; font-size:45px; text-align:left; line-height:50px\">\n",
    "A Comprehensive Analysis for UNTR Stock Predictions with LSTM Neural Networks\n",
    "</div>\n",
    "\n",
    "&mdash; Deployment model"
   ]
  },
  {
   "cell_type": "code",
   "execution_count": 278,
   "metadata": {},
   "outputs": [],
   "source": [
    "# library yang digunakan\n",
    "import torch\n",
    "import time\n",
    "import datetime\n",
    "import pandas as pd\n",
    "import joblib\n",
    "import gradio as gr"
   ]
  },
  {
   "cell_type": "code",
   "execution_count": 279,
   "metadata": {},
   "outputs": [],
   "source": [
    "# function untuk query historical data harga saham UNTR\n",
    "\n",
    "def query_historical_data(n_days):\n",
    "    \"\"\"\n",
    "    Args:\n",
    "        n_days (int): Jumlah hari yang akan diambil datanya terhitung dari hari kemarin.\n",
    "    \"\"\"\n",
    "    current_time = datetime.datetime.now()\n",
    "    \n",
    "    ticker = 'UNTR.JK'\n",
    "    period1 = int(time.mktime((datetime.datetime.now() - datetime.timedelta(days=n_days)).timetuple()))\n",
    "    period2 = int(time.mktime((datetime.datetime.now() - datetime.timedelta(days=1)).timetuple()))\n",
    "    interval = '1d' # '1wk', '1m', dll.\n",
    "\n",
    "    query_str = f\"https://query1.finance.yahoo.com/v7/finance/download/{ticker}?period1={period1}&period2={period2}&interval={interval}&events=history&includeAdjustedClose=true\"\n",
    "\n",
    "    return pd.read_csv(query_str, parse_dates=['Date'], index_col='Date')\n"
   ]
  },
  {
   "cell_type": "code",
   "execution_count": 280,
   "metadata": {},
   "outputs": [],
   "source": [
    "# membuat function untuk data preprocessing\n",
    "def data_preprocessing(data, n=7):\n",
    "    \n",
    "    def make_features(data:pd.DataFrame, lag:list[int]=None):\n",
    "        df = data.copy()\n",
    "        \n",
    "        # lag features\n",
    "        if lag: # will be executed if the variable has a value\n",
    "            for i in lag:\n",
    "                df[f\"Open(t-{i})\"] = df['Open'].shift(i)\n",
    "                df[f\"High(t-{i})\"] = df['High'].shift(i)\n",
    "                df[f\"Low(t-{i})\"] = df['Low'].shift(i)\n",
    "                df[f\"Close(t-{i})\"] = df['Close'].shift(i)\n",
    "        \n",
    "        return df.dropna()\n",
    "\n",
    "    def remove_unimportant_features(data:pd.DataFrame):\n",
    "        \n",
    "        return data.drop(columns=[\"Volume\", \"Adj Close\", 'Open', 'High', 'Low', 'Close'])\n",
    "\n",
    "    def features_scaling(data):\n",
    "        scaler = joblib.load(\"assets/scaler.pkl\")\n",
    "        return scaler.transform(data)\n",
    "    \n",
    "    def reshape_data(data):\n",
    "        return torch.tensor(data.reshape((-1, data.shape[1], 1)), dtype=torch.float)\n",
    "        \n",
    "    data_prep = make_features(data, lag=list(range(1,n+1)))\n",
    "    data_prep = remove_unimportant_features(data_prep)[-1:]\n",
    "    data_prep = features_scaling(data_prep)\n",
    "    data_prep = reshape_data(data_prep)\n",
    "    \n",
    "    return data_prep"
   ]
  },
  {
   "cell_type": "code",
   "execution_count": 281,
   "metadata": {},
   "outputs": [],
   "source": [
    "def deploy(n_forecast):\n",
    "    # memuat model\n",
    "    path = \"model/untr_stock_price_predictor.pt\"\n",
    "    model = torch.jit.load(path)\n",
    "    \n",
    "    # query historical data      \n",
    "    data = query_historical_data(50)\n",
    "\n",
    "    # data pre-processing\n",
    "    data_preprocessing(data, n=7).shape\n",
    "    \n",
    "    # forecasting\n",
    "    result = []\n",
    "    # output_box = gr.Group()\n",
    "    with torch.inference_mode():\n",
    "        for i in range(n_forecast):\n",
    "            predict = model(data_preprocessing(data, n=7))\n",
    "            result.append({\n",
    "                \"Open\": predict[:,0].item(),\n",
    "                \"High\": predict[:,1].item(),\n",
    "                \"Low\": predict[:,2].item(),\n",
    "                \"Close\": predict[:,3].item()\n",
    "            })\n",
    "            \n",
    "            # modif data: memasukkan hasil forecasting terakhir\n",
    "            pred_df = pd.DataFrame(data=torch.concat([predict, torch.tensor([[0,0]])], axis=1), columns=data.columns)\n",
    "            data = pd.concat([data, pred_df, pred_df]) # --> alasan concat pred_df 2 kali agar data nya tidak hilang saat membuat lag-features\n",
    "    \n",
    "    return result\n",
    "    # return output_box"
   ]
  },
  {
   "cell_type": "code",
   "execution_count": 284,
   "metadata": {},
   "outputs": [
    {
     "name": "stdout",
     "output_type": "stream",
     "text": [
      "Running on local URL:  http://127.0.0.1:7864\n",
      "\n",
      "To create a public link, set `share=True` in `launch()`.\n"
     ]
    },
    {
     "data": {
      "text/html": [
       "<div><iframe src=\"http://127.0.0.1:7864/\" width=\"100%\" height=\"500\" allow=\"autoplay; camera; microphone; clipboard-read; clipboard-write;\" frameborder=\"0\" allowfullscreen></iframe></div>"
      ],
      "text/plain": [
       "<IPython.core.display.HTML object>"
      ]
     },
     "metadata": {},
     "output_type": "display_data"
    },
    {
     "data": {
      "text/plain": []
     },
     "execution_count": 284,
     "metadata": {},
     "output_type": "execute_result"
    },
    {
     "name": "stderr",
     "output_type": "stream",
     "text": [
      "Exception in callback _ProactorBasePipeTransport._call_connection_lost(None)\n",
      "handle: <Handle _ProactorBasePipeTransport._call_connection_lost(None)>\n",
      "Traceback (most recent call last):\n",
      "  File \"C:\\Users\\andik\\AppData\\Local\\Programs\\Python\\Python310\\lib\\asyncio\\events.py\", line 80, in _run\n",
      "    self._context.run(self._callback, *self._args)\n",
      "  File \"C:\\Users\\andik\\AppData\\Local\\Programs\\Python\\Python310\\lib\\asyncio\\proactor_events.py\", line 162, in _call_connection_lost\n",
      "    self._sock.shutdown(socket.SHUT_RDWR)\n",
      "ConnectionResetError: [WinError 10054] An existing connection was forcibly closed by the remote host\n"
     ]
    }
   ],
   "source": [
    "# membuat interface\n",
    "interface = gr.Interface(fn=deploy,\n",
    "                         inputs=gr.Slider(minimum=1,maximum=5,step=1, label=\"n-forecasting\"),\n",
    "                         outputs=gr.Json())\n",
    "\n",
    "interface.launch()"
   ]
  }
 ],
 "metadata": {
  "kernelspec": {
   "display_name": ".venv",
   "language": "python",
   "name": "python3"
  },
  "language_info": {
   "codemirror_mode": {
    "name": "ipython",
    "version": 3
   },
   "file_extension": ".py",
   "mimetype": "text/x-python",
   "name": "python",
   "nbconvert_exporter": "python",
   "pygments_lexer": "ipython3",
   "version": "3.10.7"
  }
 },
 "nbformat": 4,
 "nbformat_minor": 2
}
